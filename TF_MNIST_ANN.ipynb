{
 "cells": [
  {
   "cell_type": "code",
   "execution_count": 42,
   "id": "cdc80525",
   "metadata": {},
   "outputs": [],
   "source": [
    "import numpy as np\n",
    "import pandas as pd\n",
    "import tensorflow as tf\n",
    "from sklearn.metrics import confusion_matrix\n",
    "import matplotlib.pyplot as plt\n",
    "import seaborn as sns\n",
    "\n",
    "%matplotlib inline"
   ]
  },
  {
   "cell_type": "code",
   "execution_count": 43,
   "id": "dc16cdde",
   "metadata": {},
   "outputs": [],
   "source": [
    "(X_train, y_train), (X_test, y_test) = tf.keras.datasets.mnist.load_data()"
   ]
  },
  {
   "cell_type": "code",
   "execution_count": 44,
   "id": "49a26531",
   "metadata": {},
   "outputs": [
    {
     "name": "stdout",
     "output_type": "stream",
     "text": [
      "The shape of the training inputs: (60000, 28, 28)\n",
      "The shape of the training labels: (60000,)\n",
      "The shape of the testing inputs: (10000, 28, 28)\n",
      "The shape of the testing labels: (10000,)\n"
     ]
    }
   ],
   "source": [
    "print('The shape of the training inputs:', X_train.shape)\n",
    "print('The shape of the training labels:',y_train.shape)\n",
    "print('The shape of the testing inputs:',X_test.shape)\n",
    "print('The shape of the testing labels:',y_test.shape)"
   ]
  },
  {
   "cell_type": "code",
   "execution_count": 45,
   "id": "a87ec1a1",
   "metadata": {},
   "outputs": [],
   "source": [
    "# Normalizing the data to lie between 0 and 1\n",
    "X_train = tf.keras.utils.normalize(X_train, axis=1)\n",
    "X_test = tf.keras.utils.normalize(X_test, axis=1)"
   ]
  },
  {
   "cell_type": "code",
   "execution_count": 46,
   "id": "b3d85ba6",
   "metadata": {},
   "outputs": [
    {
     "name": "stdout",
     "output_type": "stream",
     "text": [
      "Model: \"sequential_2\"\n",
      "_________________________________________________________________\n",
      " Layer (type)                Output Shape              Param #   \n",
      "=================================================================\n",
      " flatten_2 (Flatten)         (None, 784)               0         \n",
      "                                                                 \n",
      " dense_5 (Dense)             (None, 128)               100480    \n",
      "                                                                 \n",
      " dense_6 (Dense)             (None, 64)                8256      \n",
      "                                                                 \n",
      " dense_7 (Dense)             (None, 10)                650       \n",
      "                                                                 \n",
      "=================================================================\n",
      "Total params: 109386 (427.29 KB)\n",
      "Trainable params: 109386 (427.29 KB)\n",
      "Non-trainable params: 0 (0.00 Byte)\n",
      "_________________________________________________________________\n"
     ]
    }
   ],
   "source": [
    "model = tf.keras.models.Sequential()\n",
    "model.add(tf.keras.layers.Flatten(input_shape=(28,28)))   # input layer\n",
    "model.add(tf.keras.layers.Dense(units=128, activation=tf.nn.relu))   # 1st hidden layer\n",
    "model.add(tf.keras.layers.Dense(units=64, activation=tf.nn.relu))   # 2nd hidden layer\n",
    "model.add(tf.keras.layers.Dense(units=10, activation=tf.nn.softmax))   # output layer\n",
    "model.summary()"
   ]
  },
  {
   "cell_type": "code",
   "execution_count": 47,
   "id": "53a913c3",
   "metadata": {},
   "outputs": [
    {
     "name": "stdout",
     "output_type": "stream",
     "text": [
      "Epoch 1/10\n",
      "600/600 [==============================] - 3s 3ms/step - loss: 0.3730 - accuracy: 0.8958\n",
      "Epoch 2/10\n",
      "600/600 [==============================] - 2s 3ms/step - loss: 0.1508 - accuracy: 0.9548\n",
      "Epoch 3/10\n",
      "600/600 [==============================] - 2s 4ms/step - loss: 0.1053 - accuracy: 0.9680\n",
      "Epoch 4/10\n",
      "600/600 [==============================] - 3s 4ms/step - loss: 0.0802 - accuracy: 0.9750\n",
      "Epoch 5/10\n",
      "600/600 [==============================] - 2s 4ms/step - loss: 0.0631 - accuracy: 0.9808\n",
      "Epoch 6/10\n",
      "600/600 [==============================] - 3s 4ms/step - loss: 0.0502 - accuracy: 0.9844\n",
      "Epoch 7/10\n",
      "600/600 [==============================] - 2s 4ms/step - loss: 0.0413 - accuracy: 0.9871\n",
      "Epoch 8/10\n",
      "600/600 [==============================] - 3s 4ms/step - loss: 0.0334 - accuracy: 0.9898\n",
      "Epoch 9/10\n",
      "600/600 [==============================] - 2s 4ms/step - loss: 0.0270 - accuracy: 0.9920\n",
      "Epoch 10/10\n",
      "600/600 [==============================] - 2s 4ms/step - loss: 0.0219 - accuracy: 0.9933\n"
     ]
    },
    {
     "data": {
      "text/plain": [
       "<keras.src.callbacks.History at 0x289e3733af0>"
      ]
     },
     "execution_count": 47,
     "metadata": {},
     "output_type": "execute_result"
    }
   ],
   "source": [
    "model.compile(optimizer='adam', loss='sparse_categorical_crossentropy', metrics=['accuracy'])\n",
    "model.fit(X_train, y_train, epochs=10, batch_size=100)"
   ]
  },
  {
   "cell_type": "code",
   "execution_count": 48,
   "id": "f1b8f295",
   "metadata": {},
   "outputs": [
    {
     "name": "stdout",
     "output_type": "stream",
     "text": [
      "313/313 [==============================] - 1s 2ms/step\n",
      "313/313 [==============================] - 1s 2ms/step - loss: 0.0909 - accuracy: 0.9745\n"
     ]
    },
    {
     "data": {
      "text/plain": [
       "(array([[ 975,    0,    0,    0,    1,    0,    1,    2,    1,    0],\n",
       "        [   0, 1119,    4,    0,    0,    0,    5,    1,    6,    0],\n",
       "        [   7,    3, 1002,    3,    3,    0,    3,    4,    7,    0],\n",
       "        [   1,    1,    7,  973,    0,    8,    0,    4,    9,    7],\n",
       "        [   2,    0,    5,    0,  955,    0,    3,    2,    2,   13],\n",
       "        [   3,    0,    0,   11,    0,  863,    6,    1,    4,    4],\n",
       "        [   9,    4,    1,    0,    5,    2,  937,    0,    0,    0],\n",
       "        [   3,    3,   13,    3,    1,    0,    0,  993,    6,    6],\n",
       "        [   4,    1,    2,    3,    4,    5,    3,    3,  943,    6],\n",
       "        [   3,    2,    0,    2,    9,    2,    1,    1,    4,  985]],\n",
       "       dtype=int64),\n",
       " 0.9745000004768372)"
      ]
     },
     "execution_count": 48,
     "metadata": {},
     "output_type": "execute_result"
    }
   ],
   "source": [
    "y_hat = model.predict(X_test)\n",
    "y_hat = np.argmax(y_hat, axis = 1)\n",
    "conf = confusion_matrix(y_test, y_hat)\n",
    "loss, accuracy = model.evaluate(X_test, y_test)\n",
    "conf, accuracy"
   ]
  },
  {
   "cell_type": "code",
   "execution_count": null,
   "id": "2c7c5d1a",
   "metadata": {},
   "outputs": [],
   "source": []
  }
 ],
 "metadata": {
  "kernelspec": {
   "display_name": "Python 3 (ipykernel)",
   "language": "python",
   "name": "python3"
  },
  "language_info": {
   "codemirror_mode": {
    "name": "ipython",
    "version": 3
   },
   "file_extension": ".py",
   "mimetype": "text/x-python",
   "name": "python",
   "nbconvert_exporter": "python",
   "pygments_lexer": "ipython3",
   "version": "3.10.5"
  }
 },
 "nbformat": 4,
 "nbformat_minor": 5
}
